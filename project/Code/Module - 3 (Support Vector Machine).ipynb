{
 "cells": [
  {
   "cell_type": "code",
   "execution_count": 1,
   "id": "8bdebae2",
   "metadata": {},
   "outputs": [],
   "source": [
    "# SUPPORT VECTOR MACHINE"
   ]
  },
  {
   "cell_type": "code",
   "execution_count": 2,
   "id": "bcb51f8a",
   "metadata": {},
   "outputs": [],
   "source": [
    "# IMPORT LIBRARY PACKAGES\n",
    "import pandas as pd"
   ]
  },
  {
   "cell_type": "code",
   "execution_count": 3,
   "id": "a3d79582",
   "metadata": {},
   "outputs": [],
   "source": [
    "import warnings\n",
    "warnings.filterwarnings('ignore')"
   ]
  },
  {
   "cell_type": "code",
   "execution_count": 4,
   "id": "13784ce4",
   "metadata": {},
   "outputs": [],
   "source": [
    "# LOAD GIVEN DATASET\n",
    "data=pd.read_csv('hospital.csv')"
   ]
  },
  {
   "cell_type": "code",
   "execution_count": 5,
   "id": "17599471",
   "metadata": {},
   "outputs": [],
   "source": [
    "df=data.dropna()"
   ]
  },
  {
   "cell_type": "code",
   "execution_count": 6,
   "id": "c5909fd9",
   "metadata": {},
   "outputs": [
    {
     "data": {
      "text/plain": [
       "Index(['outcome', 'age', 'BMI', 'heart rate', 'Systolic blood pressure',\n",
       "       'Diastolic blood pressure', 'Respiratory rate', 'temperature', 'SP O2',\n",
       "       'Urine output', 'glucose', 'PH'],\n",
       "      dtype='object')"
      ]
     },
     "execution_count": 6,
     "metadata": {},
     "output_type": "execute_result"
    }
   ],
   "source": [
    "df.columns"
   ]
  },
  {
   "cell_type": "code",
   "execution_count": 7,
   "id": "85f4471f",
   "metadata": {},
   "outputs": [
    {
     "data": {
      "text/html": [
       "<div>\n",
       "<style scoped>\n",
       "    .dataframe tbody tr th:only-of-type {\n",
       "        vertical-align: middle;\n",
       "    }\n",
       "\n",
       "    .dataframe tbody tr th {\n",
       "        vertical-align: top;\n",
       "    }\n",
       "\n",
       "    .dataframe thead th {\n",
       "        text-align: right;\n",
       "    }\n",
       "</style>\n",
       "<table border=\"1\" class=\"dataframe\">\n",
       "  <thead>\n",
       "    <tr style=\"text-align: right;\">\n",
       "      <th></th>\n",
       "      <th>outcome</th>\n",
       "      <th>age</th>\n",
       "      <th>BMI</th>\n",
       "      <th>heart rate</th>\n",
       "      <th>Systolic blood pressure</th>\n",
       "      <th>Diastolic blood pressure</th>\n",
       "      <th>Respiratory rate</th>\n",
       "      <th>temperature</th>\n",
       "      <th>SP O2</th>\n",
       "      <th>Urine output</th>\n",
       "      <th>glucose</th>\n",
       "      <th>PH</th>\n",
       "    </tr>\n",
       "  </thead>\n",
       "  <tbody>\n",
       "    <tr>\n",
       "      <th>0</th>\n",
       "      <td>0.0</td>\n",
       "      <td>72</td>\n",
       "      <td>37.588179</td>\n",
       "      <td>68.837838</td>\n",
       "      <td>155.866667</td>\n",
       "      <td>68.333333</td>\n",
       "      <td>16.621622</td>\n",
       "      <td>36.714286</td>\n",
       "      <td>98.394737</td>\n",
       "      <td>2155.0</td>\n",
       "      <td>114.636364</td>\n",
       "      <td>7.230</td>\n",
       "    </tr>\n",
       "    <tr>\n",
       "      <th>2</th>\n",
       "      <td>0.0</td>\n",
       "      <td>83</td>\n",
       "      <td>26.572634</td>\n",
       "      <td>72.318182</td>\n",
       "      <td>135.333333</td>\n",
       "      <td>61.375000</td>\n",
       "      <td>23.640000</td>\n",
       "      <td>36.453704</td>\n",
       "      <td>95.291667</td>\n",
       "      <td>2425.0</td>\n",
       "      <td>149.000000</td>\n",
       "      <td>7.268</td>\n",
       "    </tr>\n",
       "    <tr>\n",
       "      <th>3</th>\n",
       "      <td>0.0</td>\n",
       "      <td>43</td>\n",
       "      <td>83.264629</td>\n",
       "      <td>94.500000</td>\n",
       "      <td>126.400000</td>\n",
       "      <td>73.200000</td>\n",
       "      <td>21.857143</td>\n",
       "      <td>36.287037</td>\n",
       "      <td>93.846154</td>\n",
       "      <td>8760.0</td>\n",
       "      <td>128.250000</td>\n",
       "      <td>7.370</td>\n",
       "    </tr>\n",
       "    <tr>\n",
       "      <th>4</th>\n",
       "      <td>0.0</td>\n",
       "      <td>75</td>\n",
       "      <td>31.824842</td>\n",
       "      <td>67.920000</td>\n",
       "      <td>156.560000</td>\n",
       "      <td>58.120000</td>\n",
       "      <td>21.360000</td>\n",
       "      <td>36.761905</td>\n",
       "      <td>99.280000</td>\n",
       "      <td>4455.0</td>\n",
       "      <td>145.750000</td>\n",
       "      <td>7.250</td>\n",
       "    </tr>\n",
       "    <tr>\n",
       "      <th>5</th>\n",
       "      <td>0.0</td>\n",
       "      <td>76</td>\n",
       "      <td>24.262293</td>\n",
       "      <td>74.181818</td>\n",
       "      <td>118.100000</td>\n",
       "      <td>52.950000</td>\n",
       "      <td>20.545455</td>\n",
       "      <td>35.266667</td>\n",
       "      <td>96.818182</td>\n",
       "      <td>1840.0</td>\n",
       "      <td>98.333333</td>\n",
       "      <td>7.310</td>\n",
       "    </tr>\n",
       "  </tbody>\n",
       "</table>\n",
       "</div>"
      ],
      "text/plain": [
       "   outcome  age        BMI  heart rate  Systolic blood pressure   \n",
       "0      0.0   72  37.588179   68.837838               155.866667  \\\n",
       "2      0.0   83  26.572634   72.318182               135.333333   \n",
       "3      0.0   43  83.264629   94.500000               126.400000   \n",
       "4      0.0   75  31.824842   67.920000               156.560000   \n",
       "5      0.0   76  24.262293   74.181818               118.100000   \n",
       "\n",
       "   Diastolic blood pressure  Respiratory rate  temperature      SP O2   \n",
       "0                 68.333333         16.621622    36.714286  98.394737  \\\n",
       "2                 61.375000         23.640000    36.453704  95.291667   \n",
       "3                 73.200000         21.857143    36.287037  93.846154   \n",
       "4                 58.120000         21.360000    36.761905  99.280000   \n",
       "5                 52.950000         20.545455    35.266667  96.818182   \n",
       "\n",
       "   Urine output     glucose     PH  \n",
       "0        2155.0  114.636364  7.230  \n",
       "2        2425.0  149.000000  7.268  \n",
       "3        8760.0  128.250000  7.370  \n",
       "4        4455.0  145.750000  7.250  \n",
       "5        1840.0   98.333333  7.310  "
      ]
     },
     "execution_count": 7,
     "metadata": {},
     "output_type": "execute_result"
    }
   ],
   "source": [
    "df.head()"
   ]
  },
  {
   "cell_type": "code",
   "execution_count": 8,
   "id": "ea1a8462",
   "metadata": {},
   "outputs": [],
   "source": [
    "df=df.rename({'heart rate':'heart_rate','Systolic blood pressure':'Systolic_blood_pressure',\n",
    "              'Diastolic blood pressure':'Diastolic_blood_pressure','Respiratory rate':'Respiratory_rate',\n",
    "              'SP O2':'SP_O2','Urine output':'Urine_output'},axis=1)"
   ]
  },
  {
   "cell_type": "code",
   "execution_count": 9,
   "id": "8e9bf112",
   "metadata": {},
   "outputs": [
    {
     "data": {
      "text/plain": [
       "Index(['outcome', 'age', 'BMI', 'heart_rate', 'Systolic_blood_pressure',\n",
       "       'Diastolic_blood_pressure', 'Respiratory_rate', 'temperature', 'SP_O2',\n",
       "       'Urine_output', 'glucose', 'PH'],\n",
       "      dtype='object')"
      ]
     },
     "execution_count": 9,
     "metadata": {},
     "output_type": "execute_result"
    }
   ],
   "source": [
    "df.columns"
   ]
  },
  {
   "cell_type": "code",
   "execution_count": 10,
   "id": "e1f7449d",
   "metadata": {},
   "outputs": [],
   "source": [
    "from sklearn.preprocessing import LabelEncoder\n",
    "var_mod=['outcome','age','BMI','heart_rate','Systolic_blood_pressure','Diastolic_blood_pressure',\n",
    "         'Respiratory_rate','temperature','SP_O2','Urine_output','glucose','PH']\n",
    "le=LabelEncoder()\n",
    "for i in var_mod:\n",
    "    df[i]=le.fit_transform(df[i]).astype(int)    "
   ]
  },
  {
   "cell_type": "code",
   "execution_count": 11,
   "id": "4556e38a",
   "metadata": {},
   "outputs": [
    {
     "data": {
      "text/html": [
       "<div>\n",
       "<style scoped>\n",
       "    .dataframe tbody tr th:only-of-type {\n",
       "        vertical-align: middle;\n",
       "    }\n",
       "\n",
       "    .dataframe tbody tr th {\n",
       "        vertical-align: top;\n",
       "    }\n",
       "\n",
       "    .dataframe thead th {\n",
       "        text-align: right;\n",
       "    }\n",
       "</style>\n",
       "<table border=\"1\" class=\"dataframe\">\n",
       "  <thead>\n",
       "    <tr style=\"text-align: right;\">\n",
       "      <th></th>\n",
       "      <th>outcome</th>\n",
       "      <th>age</th>\n",
       "      <th>BMI</th>\n",
       "      <th>heart_rate</th>\n",
       "      <th>Systolic_blood_pressure</th>\n",
       "      <th>Diastolic_blood_pressure</th>\n",
       "      <th>Respiratory_rate</th>\n",
       "      <th>temperature</th>\n",
       "      <th>SP_O2</th>\n",
       "      <th>Urine_output</th>\n",
       "      <th>glucose</th>\n",
       "      <th>PH</th>\n",
       "    </tr>\n",
       "  </thead>\n",
       "  <tbody>\n",
       "    <tr>\n",
       "      <th>0</th>\n",
       "      <td>0</td>\n",
       "      <td>38</td>\n",
       "      <td>584</td>\n",
       "      <td>118</td>\n",
       "      <td>677</td>\n",
       "      <td>564</td>\n",
       "      <td>91</td>\n",
       "      <td>279</td>\n",
       "      <td>474</td>\n",
       "      <td>347</td>\n",
       "      <td>126</td>\n",
       "      <td>9</td>\n",
       "    </tr>\n",
       "    <tr>\n",
       "      <th>2</th>\n",
       "      <td>0</td>\n",
       "      <td>49</td>\n",
       "      <td>263</td>\n",
       "      <td>167</td>\n",
       "      <td>589</td>\n",
       "      <td>405</td>\n",
       "      <td>498</td>\n",
       "      <td>188</td>\n",
       "      <td>188</td>\n",
       "      <td>388</td>\n",
       "      <td>317</td>\n",
       "      <td>29</td>\n",
       "    </tr>\n",
       "    <tr>\n",
       "      <th>3</th>\n",
       "      <td>0</td>\n",
       "      <td>9</td>\n",
       "      <td>695</td>\n",
       "      <td>500</td>\n",
       "      <td>509</td>\n",
       "      <td>618</td>\n",
       "      <td>411</td>\n",
       "      <td>137</td>\n",
       "      <td>96</td>\n",
       "      <td>553</td>\n",
       "      <td>198</td>\n",
       "      <td>181</td>\n",
       "    </tr>\n",
       "    <tr>\n",
       "      <th>4</th>\n",
       "      <td>0</td>\n",
       "      <td>41</td>\n",
       "      <td>464</td>\n",
       "      <td>110</td>\n",
       "      <td>678</td>\n",
       "      <td>321</td>\n",
       "      <td>382</td>\n",
       "      <td>293</td>\n",
       "      <td>543</td>\n",
       "      <td>514</td>\n",
       "      <td>303</td>\n",
       "      <td>17</td>\n",
       "    </tr>\n",
       "    <tr>\n",
       "      <th>5</th>\n",
       "      <td>0</td>\n",
       "      <td>42</td>\n",
       "      <td>174</td>\n",
       "      <td>195</td>\n",
       "      <td>389</td>\n",
       "      <td>191</td>\n",
       "      <td>340</td>\n",
       "      <td>7</td>\n",
       "      <td>319</td>\n",
       "      <td>304</td>\n",
       "      <td>49</td>\n",
       "      <td>80</td>\n",
       "    </tr>\n",
       "  </tbody>\n",
       "</table>\n",
       "</div>"
      ],
      "text/plain": [
       "   outcome  age  BMI  heart_rate  Systolic_blood_pressure   \n",
       "0        0   38  584         118                      677  \\\n",
       "2        0   49  263         167                      589   \n",
       "3        0    9  695         500                      509   \n",
       "4        0   41  464         110                      678   \n",
       "5        0   42  174         195                      389   \n",
       "\n",
       "   Diastolic_blood_pressure  Respiratory_rate  temperature  SP_O2   \n",
       "0                       564                91          279    474  \\\n",
       "2                       405               498          188    188   \n",
       "3                       618               411          137     96   \n",
       "4                       321               382          293    543   \n",
       "5                       191               340            7    319   \n",
       "\n",
       "   Urine_output  glucose   PH  \n",
       "0           347      126    9  \n",
       "2           388      317   29  \n",
       "3           553      198  181  \n",
       "4           514      303   17  \n",
       "5           304       49   80  "
      ]
     },
     "execution_count": 11,
     "metadata": {},
     "output_type": "execute_result"
    }
   ],
   "source": [
    "df.head()"
   ]
  },
  {
   "cell_type": "code",
   "execution_count": 12,
   "id": "307fb55f",
   "metadata": {},
   "outputs": [],
   "source": [
    "# preprocessing, split test and dataset, split response variable\n",
    "X=df.drop(labels='outcome',axis=1)\n",
    "# Response variable\n",
    "y=df.loc[:,'outcome']"
   ]
  },
  {
   "cell_type": "code",
   "execution_count": 13,
   "id": "3d46ccf3",
   "metadata": {},
   "outputs": [],
   "source": [
    "from sklearn.preprocessing import StandardScaler\n",
    "\n",
    "scaler=StandardScaler()\n",
    "X=scaler.fit_transform(X,y)"
   ]
  },
  {
   "cell_type": "code",
   "execution_count": 14,
   "id": "090705c1",
   "metadata": {},
   "outputs": [
    {
     "name": "stdout",
     "output_type": "stream",
     "text": [
      "OUR DATASET COUNT        : Counter({0: 608, 1: 101})\n",
      "OVER SAMPLING DATA COUNT : Counter({0: 608, 1: 608})\n"
     ]
    }
   ],
   "source": [
    "import imblearn\n",
    "from imblearn.over_sampling import RandomOverSampler\n",
    "from collections import Counter\n",
    "\n",
    "ros=RandomOverSampler(random_state=42)\n",
    "x_ros,y_ros=ros.fit_resample(X,y)\n",
    "print('OUR DATASET COUNT        :',Counter(y))\n",
    "print('OVER SAMPLING DATA COUNT :',Counter(y_ros))"
   ]
  },
  {
   "cell_type": "code",
   "execution_count": 15,
   "id": "9056eb7a",
   "metadata": {},
   "outputs": [
    {
     "name": "stdout",
     "output_type": "stream",
     "text": [
      "Number of training dataset: 851\n",
      "Number of test dataset    : 365\n",
      "Total number of dataset   : 1216\n"
     ]
    }
   ],
   "source": [
    "from sklearn.model_selection import train_test_split\n",
    "X_train,X_test,y_train,y_test=train_test_split(x_ros,y_ros,test_size=0.30,random_state=42,stratify=y_ros)\n",
    "print('Number of training dataset:',len(X_train))\n",
    "print('Number of test dataset    :',len(X_test))\n",
    "print('Total number of dataset   :',len(X_train)+len(X_test))"
   ]
  },
  {
   "cell_type": "code",
   "execution_count": 16,
   "id": "c2087d40",
   "metadata": {},
   "outputs": [
    {
     "ename": "ImportError",
     "evalue": "cannot import name 'plot_confusion_matrix' from 'sklearn.metrics' (C:\\ProgramData\\anaconda3\\lib\\site-packages\\sklearn\\metrics\\__init__.py)",
     "output_type": "error",
     "traceback": [
      "\u001b[1;31m---------------------------------------------------------------------------\u001b[0m",
      "\u001b[1;31mImportError\u001b[0m                               Traceback (most recent call last)",
      "Cell \u001b[1;32mIn[16], line 3\u001b[0m\n\u001b[0;32m      1\u001b[0m \u001b[38;5;66;03m# Implementing SVC logo\u001b[39;00m\n\u001b[0;32m      2\u001b[0m \u001b[38;5;28;01mfrom\u001b[39;00m \u001b[38;5;21;01msklearn\u001b[39;00m\u001b[38;5;21;01m.\u001b[39;00m\u001b[38;5;21;01msvm\u001b[39;00m \u001b[38;5;28;01mimport\u001b[39;00m SVC\n\u001b[1;32m----> 3\u001b[0m \u001b[38;5;28;01mfrom\u001b[39;00m \u001b[38;5;21;01msklearn\u001b[39;00m\u001b[38;5;21;01m.\u001b[39;00m\u001b[38;5;21;01mmetrics\u001b[39;00m \u001b[38;5;28;01mimport\u001b[39;00m confusion_matrix,classification_report,accuracy_score,plot_confusion_matrix\n",
      "\u001b[1;31mImportError\u001b[0m: cannot import name 'plot_confusion_matrix' from 'sklearn.metrics' (C:\\ProgramData\\anaconda3\\lib\\site-packages\\sklearn\\metrics\\__init__.py)"
     ]
    }
   ],
   "source": [
    "# Implementing SVC logo\n",
    "from sklearn.svm import SVC\n",
    "from sklearn.metrics import confusion_matrix,classification_report,accuracy_score,plot_confusion_matrix"
   ]
  },
  {
   "cell_type": "code",
   "execution_count": null,
   "id": "5219cf85",
   "metadata": {},
   "outputs": [],
   "source": [
    "# Training\n",
    "svc=SVC()\n",
    "svc.fit(X_train,y_train)\n",
    "predicted=svc.predict(X_test)"
   ]
  },
  {
   "cell_type": "code",
   "execution_count": null,
   "id": "75a148a2",
   "metadata": {},
   "outputs": [],
   "source": [
    "# Finding Accuracy\n",
    "accuracy=accuracy_score(y_test,predicted)\n",
    "print('Accuracy of Support Vector Classifier',accuracy*100)"
   ]
  },
  {
   "cell_type": "code",
   "execution_count": null,
   "id": "2a79c984",
   "metadata": {},
   "outputs": [],
   "source": [
    "# Finding Classification Report\n",
    "cr=classification_report(y_test,predicted)\n",
    "print('Classification report\\n\\n',cr)"
   ]
  },
  {
   "cell_type": "code",
   "execution_count": null,
   "id": "70a4d2a4",
   "metadata": {},
   "outputs": [],
   "source": [
    "# Finding Confusion Matrix\n",
    "cm=confusion_matrix(y_test,predicted)\n",
    "print('Confusion matrix\\n\\n',cm)"
   ]
  },
  {
   "cell_type": "code",
   "execution_count": null,
   "id": "4060f079",
   "metadata": {},
   "outputs": [],
   "source": [
    "import matplotlib.pyplot as plt\n",
    "fig,ax=plt.subplots(figsize=(10,10))\n",
    "plot_confusion_matrix(svc,X_test,y_test,ax=ax)\n",
    "plt.title('Confusion matrix of SVC')\n",
    "plt.show()"
   ]
  },
  {
   "cell_type": "code",
   "execution_count": null,
   "id": "0b8ef864",
   "metadata": {},
   "outputs": [],
   "source": [
    "df2=pd.DataFrame()\n",
    "df2['y_test']=y_test\n",
    "df2['predicted']=predicted\n",
    "df2.reset_index(inplace=True)\n",
    "plt.figure(figsize=(20,5))\n",
    "plt.plot(df2['predicted'][:100],marker='x',linestyle='dashed',color='green')\n",
    "plt.plot(df2['y_test'][:100],marker='o',linestyle='dashed',color='red')\n",
    "plt.show()"
   ]
  }
 ],
 "metadata": {
  "kernelspec": {
   "display_name": "Python 3 (ipykernel)",
   "language": "python",
   "name": "python3"
  },
  "language_info": {
   "codemirror_mode": {
    "name": "ipython",
    "version": 3
   },
   "file_extension": ".py",
   "mimetype": "text/x-python",
   "name": "python",
   "nbconvert_exporter": "python",
   "pygments_lexer": "ipython3",
   "version": "3.10.9"
  }
 },
 "nbformat": 4,
 "nbformat_minor": 5
}
